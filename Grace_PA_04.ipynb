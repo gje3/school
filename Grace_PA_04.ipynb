{
  "cells": [
    {
      "cell_type": "markdown",
      "id": "940d65bc-011d-4762-8f7c-d628f2a81bcd",
      "metadata": {
        "id": "940d65bc-011d-4762-8f7c-d628f2a81bcd"
      },
      "source": [
        "# Programming Assignment #4"
      ]
    },
    {
      "cell_type": "markdown",
      "id": "60ccdfcc-83fa-4eb2-a3b7-9671f72157e8",
      "metadata": {
        "id": "60ccdfcc-83fa-4eb2-a3b7-9671f72157e8"
      },
      "source": [
        "## Association rule mining\n",
        "\n",
        "The market basket transactions dataset (transactions_data.txt)contains list of items purchased by customer in each transaction.\n",
        "\n",
        "- load the transaction dataset file\n",
        "- use minimum support = 0.2 and use_colname=True in apriori method\n",
        "- select metric as confidence in association rules\n",
        "- use minimum threshold = 0.5\n",
        "\n",
        "Ex: If the minimum support is 0.4, the metric is confidence and minimum threshold is 0.5 then some of the outputs are:\n",
        "- the least frequency of frequent 1-itemset is ['Queso'].\n",
        "- the support, confidence, and lift of rule, ['Queso'] -> ['Tortilla chips'] are:\n",
        "  - consequent support = 0.7\n",
        "  - support = 0.4\n",
        "  - confidence = 1.00\n",
        "  - lift = 1.42"
      ]
    },
    {
      "cell_type": "code",
      "execution_count": 1,
      "id": "eef59b37-5429-42b9-a45c-56ad45a7968c",
      "metadata": {
        "id": "eef59b37-5429-42b9-a45c-56ad45a7968c"
      },
      "outputs": [],
      "source": [
        "# Import the packages\n",
        "import numpy as np"
      ]
    },
    {
      "cell_type": "code",
      "execution_count": 3,
      "id": "caeaf8cd",
      "metadata": {
        "colab": {
          "base_uri": "https://localhost:8080/"
        },
        "id": "caeaf8cd",
        "outputId": "86133e6b-4fa7-426d-d845-e1b3feadac22"
      },
      "outputs": [
        {
          "output_type": "execute_result",
          "data": {
            "text/plain": [
              "[['Lime', 'Queso', 'Salsa', 'Salt', 'Tortilla chips'],\n",
              " ['Ranch dip', 'Salsa', 'Tortilla chips'],\n",
              " ['Queso', 'Tortilla chips'],\n",
              " ['Potato chips', 'Ranch dip'],\n",
              " ['Salsa', 'Tortilla chips'],\n",
              " ['Queso', 'Salsa', 'Tortilla chips'],\n",
              " ['Pita chips', 'Ranch dip'],\n",
              " ['Guacamole', 'Tortilla chips'],\n",
              " ['Guacamole', 'Queso', 'Salsa', 'Tortilla chips'],\n",
              " ['Pita chips', 'Salsa']]"
            ]
          },
          "metadata": {},
          "execution_count": 3
        }
      ],
      "source": [
        "#load the transactions dataset\n",
        "import pandas as pd\n",
        "from mlxtend.preprocessing import TransactionEncoder\n",
        "from mlxtend.frequent_patterns import apriori, association_rules\n",
        "\n",
        "# Loading the data\n",
        "def load_dataset(path_to_data):\n",
        "    transactions = []\n",
        "    with open(path_to_data, 'r') as fid:\n",
        "        for lines in fid:\n",
        "            transactions.append(lines.strip().split(','))\n",
        "            #YOUR CODE\n",
        "            #YOUR CODE\n",
        "            #YOUR CODE\n",
        "    return transactions\n",
        "\n",
        "path_to_data = \"transactions_data.txt\"\n",
        "dataset = load_dataset(path_to_data)\n",
        "dataset"
      ]
    },
    {
      "cell_type": "code",
      "execution_count": 14,
      "id": "1c4cadf3",
      "metadata": {
        "colab": {
          "base_uri": "https://localhost:8080/"
        },
        "id": "1c4cadf3",
        "outputId": "2eefd383-253e-4747-d2ab-d93670b9aff8"
      },
      "outputs": [
        {
          "output_type": "stream",
          "name": "stdout",
          "text": [
            "Frequent Itemsets:\n",
            "    support                        itemsets\n",
            "0       0.2                     (Guacamole)\n",
            "1       0.2                    (Pita chips)\n",
            "2       0.4                         (Queso)\n",
            "3       0.3                     (Ranch dip)\n",
            "4       0.6                         (Salsa)\n",
            "5       0.7                (Tortilla chips)\n",
            "6       0.2     (Guacamole, Tortilla chips)\n",
            "7       0.3                  (Salsa, Queso)\n",
            "8       0.4         (Queso, Tortilla chips)\n",
            "9       0.5         (Salsa, Tortilla chips)\n",
            "10      0.3  (Salsa, Queso, Tortilla chips)\n",
            "\n",
            "Association Rules:\n",
            "                antecedents              consequents  antecedent support  \\\n",
            "0               (Guacamole)         (Tortilla chips)                 0.2   \n",
            "3                   (Queso)         (Tortilla chips)                 0.4   \n",
            "7            (Salsa, Queso)         (Tortilla chips)                 0.3   \n",
            "5                   (Salsa)         (Tortilla chips)                 0.6   \n",
            "11                  (Queso)  (Salsa, Tortilla chips)                 0.4   \n",
            "2                   (Queso)                  (Salsa)                 0.4   \n",
            "9   (Queso, Tortilla chips)                  (Salsa)                 0.4   \n",
            "6          (Tortilla chips)                  (Salsa)                 0.7   \n",
            "8   (Salsa, Tortilla chips)                  (Queso)                 0.5   \n",
            "4          (Tortilla chips)                  (Queso)                 0.7   \n",
            "1                   (Salsa)                  (Queso)                 0.6   \n",
            "10                  (Salsa)  (Queso, Tortilla chips)                 0.6   \n",
            "\n",
            "    consequent support  support  confidence      lift  representativity  \\\n",
            "0                  0.7      0.2    1.000000  1.428571               1.0   \n",
            "3                  0.7      0.4    1.000000  1.428571               1.0   \n",
            "7                  0.7      0.3    1.000000  1.428571               1.0   \n",
            "5                  0.7      0.5    0.833333  1.190476               1.0   \n",
            "11                 0.5      0.3    0.750000  1.500000               1.0   \n",
            "2                  0.6      0.3    0.750000  1.250000               1.0   \n",
            "9                  0.6      0.3    0.750000  1.250000               1.0   \n",
            "6                  0.6      0.5    0.714286  1.190476               1.0   \n",
            "8                  0.4      0.3    0.600000  1.500000               1.0   \n",
            "4                  0.4      0.4    0.571429  1.428571               1.0   \n",
            "1                  0.4      0.3    0.500000  1.250000               1.0   \n",
            "10                 0.4      0.3    0.500000  1.250000               1.0   \n",
            "\n",
            "    leverage  conviction  zhangs_metric   jaccard  certainty  kulczynski  \n",
            "0       0.06         inf       0.375000  0.285714   1.000000    0.642857  \n",
            "3       0.12         inf       0.500000  0.571429   1.000000    0.785714  \n",
            "7       0.09         inf       0.428571  0.428571   1.000000    0.714286  \n",
            "5       0.08         1.8       0.400000  0.625000   0.444444    0.773810  \n",
            "11      0.10         2.0       0.555556  0.500000   0.500000    0.675000  \n",
            "2       0.06         1.6       0.333333  0.428571   0.375000    0.625000  \n",
            "9       0.06         1.6       0.333333  0.428571   0.375000    0.625000  \n",
            "6       0.08         1.4       0.533333  0.625000   0.285714    0.773810  \n",
            "8       0.10         1.5       0.666667  0.500000   0.333333    0.675000  \n",
            "4       0.12         1.4       1.000000  0.571429   0.285714    0.785714  \n",
            "1       0.06         1.2       0.500000  0.428571   0.166667    0.625000  \n",
            "10      0.06         1.2       0.500000  0.428571   0.166667    0.625000  \n"
          ]
        }
      ],
      "source": [
        "# Transform the data to a format suitable for the apriori function\n",
        "te = TransactionEncoder()\n",
        "te_ary = te.fit(dataset).transform(dataset)\n",
        "df = pd.DataFrame(te_ary, columns=te.columns_)\n",
        "\n",
        "# Apply the apriori algorithm\n",
        "frequent_itemsets = apriori(df, min_support=0.2, use_colnames=True)\n",
        "print(\"Frequent Itemsets:\")\n",
        "print(frequent_itemsets)\n",
        "\n",
        "# Generate the association rules\n",
        "rules = association_rules(frequent_itemsets, metric=\"confidence\", min_threshold=0.5)\n",
        "rules = rules.sort_values(by=['confidence'], ascending=False)\n",
        "print(\"\\nAssociation Rules:\")\n",
        "print(rules)"
      ]
    },
    {
      "cell_type": "code",
      "execution_count": null,
      "id": "81071e13-02cb-40f2-8210-5e420bf572ef",
      "metadata": {
        "id": "81071e13-02cb-40f2-8210-5e420bf572ef"
      },
      "outputs": [],
      "source": []
    }
  ],
  "metadata": {
    "kernelspec": {
      "display_name": "Python 3 (ipykernel)",
      "language": "python",
      "name": "python3"
    },
    "language_info": {
      "codemirror_mode": {
        "name": "ipython",
        "version": 3
      },
      "file_extension": ".py",
      "mimetype": "text/x-python",
      "name": "python",
      "nbconvert_exporter": "python",
      "pygments_lexer": "ipython3",
      "version": "3.12.4"
    },
    "colab": {
      "provenance": []
    }
  },
  "nbformat": 4,
  "nbformat_minor": 5
}