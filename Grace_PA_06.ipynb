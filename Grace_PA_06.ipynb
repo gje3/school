{
  "cells": [
    {
      "cell_type": "markdown",
      "id": "084a5836-46c8-47ac-a1e0-e8348a525150",
      "metadata": {
        "id": "084a5836-46c8-47ac-a1e0-e8348a525150"
      },
      "source": [
        "# ProgrammingAssignment05_clusterAnalysis"
      ]
    },
    {
      "cell_type": "markdown",
      "id": "c7bf8149-9aa3-4627-8f2c-49e531f9c5e9",
      "metadata": {
        "id": "c7bf8149-9aa3-4627-8f2c-49e531f9c5e9"
      },
      "source": [
        "## 1. k-means using scikit-learn\n",
        "The healthy_lifestyle dataset contains information on lifestyle measures such as amount of sunshine, pollution, and happiness levels for 44 major cities around the world. Apply k-means clustering to the cities' number of hours of sunshine and happiness levels.\n",
        "\n",
        "- Import the needed packages for clustering.\n",
        "- Initialize and fit a k-means clustering model using sklearn's Kmeans() function.\n",
        "- Use the user-defined number of clusters, init='random', n_init=10, random_state=123, and algorithm='elkan'.\n",
        "- Find the cluster centroids and inertia.\n",
        "\n",
        "Ex: If the input is: 4\n",
        "\n",
        "the output should be:\n",
        "\n",
        "- Centroids: [[ 0.8294  0.2562]\n",
        " [ 1.3106 -1.887 ]\n",
        " [-0.9471  0.8281]\n",
        " [-0.6372 -0.7943]]\n",
        "- Inertia: 16.4991"
      ]
    },
    {
      "cell_type": "code",
      "execution_count": 20,
      "id": "ad54189b-81b1-4a58-9dd8-42ca5ba05310",
      "metadata": {
        "colab": {
          "base_uri": "https://localhost:8080/"
        },
        "id": "ad54189b-81b1-4a58-9dd8-42ca5ba05310",
        "outputId": "2b7cfc73-e803-46fe-dff3-f2c61c9c8379"
      },
      "outputs": [
        {
          "output_type": "stream",
          "name": "stdout",
          "text": [
            "5\n",
            "Centroids: [[-0.6372 -0.7943]\n",
            " [-0.9471  0.8281]\n",
            " [ 1.3106 -1.887 ]\n",
            " [ 1.7175  0.5766]\n",
            " [ 0.6073  0.176 ]]\n",
            "Inertia: 13.1557\n"
          ]
        }
      ],
      "source": [
        "# Import needed packages\n",
        "import pandas as pd\n",
        "import numpy as np\n",
        "from sklearn.preprocessing import StandardScaler\n",
        "from sklearn.cluster import KMeans\n",
        "\n",
        "# Silence warning\n",
        "import warnings\n",
        "warnings.filterwarnings('ignore')\n",
        "\n",
        "healthy = pd.read_csv('healthy_lifestyle.csv')\n",
        "\n",
        "# Input the number of clusters\n",
        "number = int(input())\n",
        "\n",
        "# Define input features\n",
        "X = healthy[['sunshine_hours', 'happiness_levels']]\n",
        "\n",
        "# Use StandardScaler() to standardize input features\n",
        "scaler = StandardScaler()\n",
        "X = scaler.fit_transform(X)\n",
        "X = pd.DataFrame(X, columns=['sunshine_hours', 'happiness_levels'])\n",
        "X = X.dropna()\n",
        "\n",
        "# Initialize a k-means clustering algorithm with a user-defined number of clusters, init='random', n_init=10,\n",
        "# random_state=123, and algorithm='elkan'\n",
        "kmeans = KMeans(n_clusters=number, init='random', n_init=10, random_state=123, algorithm='elkan')\n",
        "\n",
        "# Fit the algorithm to the input features\n",
        "kmeans.fit(X)\n",
        "\n",
        "# Find and print the cluster centroids\n",
        "centroid = kmeans.cluster_centers_\n",
        "print(\"Centroids:\", np.round(centroid,4))\n",
        "\n",
        "# Find and print the cluster inertia\n",
        "inertia = kmeans.inertia_\n",
        "print(\"Inertia:\", np.round(inertia,4))"
      ]
    },
    {
      "cell_type": "markdown",
      "id": "18700cd6-8069-458a-8822-61f755fd893e",
      "metadata": {
        "id": "18700cd6-8069-458a-8822-61f755fd893e"
      },
      "source": [
        "## 2. Hierarchical clustering using scikit-learn\n",
        "The healthy_lifestyle dataset contains information on lifestyle measures such as amount of sunshine, pollution, and happiness levels for 44 major cities around the world. Apply agglomerative clustering to the cities' number of hours of sunshine and happiness levels using both sklearn and SciPy.\n",
        "\n",
        "- Import the needed packages for agglomerative clustering from sklearn and SciPy.\n",
        "- Initialize and fit an agglomerative clustering model using sklearn's AgglomerativeClustering() function. Use the user-defined number of clusters and ward linkage.\n",
        "- Add cluster labels to the input feature dataframe.\n",
        "- Calculate the distances between all instances using SciPy's pdist() function.\n",
        "- Convert the distance matrix to a square matrix using SciPy's squareform() function.\n",
        "- Define a clustering model with ward linkage using SciPy's linkage() function.\n",
        "\n",
        "Ex: If the input is: 4\n",
        "\n",
        "the output should be:\n",
        "|       | sunshine_hours | happiness_levels | labels |\n",
        "|-------|----------------|------------------|--------|\n",
        "| 0     | -0.691660      | 1.025642         | 3      |\n",
        "| 1     | 0.695725       | 0.801124         | 0      |\n",
        "| 2     | -0.645295      | 0.872562         | 3      |\n",
        "| 3     | -0.757641      | 0.933794         | 3      |\n",
        "| 4     | -1.098246      | 1.229750         | 3      |\n",
        "\n",
        "\n",
        "First five rows of the linkage matrix from SciPy:\n",
        "    \n",
        " - [[39. 40.  0.  2.]\n",
        " [28. 43.  0.  3.]\n",
        " [ 7. 18.  0.  2.]\n",
        " [ 8. 42.  0.  2.]\n",
        " [ 0.  3.  0.  2.]]"
      ]
    },
    {
      "cell_type": "code",
      "execution_count": 21,
      "id": "f58d1471-d33e-43b5-839c-ba86c9509ebc",
      "metadata": {
        "colab": {
          "base_uri": "https://localhost:8080/"
        },
        "id": "f58d1471-d33e-43b5-839c-ba86c9509ebc",
        "outputId": "cc55ba75-d8e8-4e19-fd84-4d3c2cfced50"
      },
      "outputs": [
        {
          "output_type": "stream",
          "name": "stdout",
          "text": [
            "3\n",
            "   sunshine_hours  happiness_levels  labels\n",
            "0       -0.691660          1.025642       0\n",
            "1        0.695725          0.801124       1\n",
            "2       -0.645295          0.872562       0\n",
            "3       -0.757641          0.933794       0\n",
            "4       -1.098246          1.229750       0\n",
            "First five rows of the linkage matrix from SciPy:\n",
            " [[39. 40.  0.  2.]\n",
            " [28. 43.  0.  3.]\n",
            " [ 7. 18.  0.  2.]\n",
            " [ 8. 42.  0.  2.]\n",
            " [ 0.  3.  0.  2.]]\n"
          ]
        }
      ],
      "source": [
        "import pandas as pd\n",
        "import seaborn as sns\n",
        "import numpy as np\n",
        "\n",
        "# Import needed sklearn packages\n",
        "from sklearn.preprocessing import StandardScaler\n",
        "from sklearn.cluster import AgglomerativeClustering\n",
        "\n",
        "# Import needed scipy packages\n",
        "from scipy.cluster.hierarchy import dendrogram, linkage, fcluster\n",
        "from scipy.spatial.distance import pdist, squareform\n",
        "\n",
        "# Silence warning\n",
        "import warnings\n",
        "warnings.filterwarnings('ignore')\n",
        "\n",
        "\n",
        "healthy = pd.read_csv('healthy_lifestyle.csv')\n",
        "\n",
        "# Input the number of clusters\n",
        "number = int(input())\n",
        "\n",
        "# Define input features\n",
        "X = healthy[['sunshine_hours', 'happiness_levels']]\n",
        "\n",
        "# Use StandardScaler() to standardize input features\n",
        "scaler = StandardScaler()\n",
        "X = scaler.fit_transform(X)\n",
        "X = pd.DataFrame(X, columns=['sunshine_hours', 'happiness_levels'])\n",
        "X = X.dropna()\n",
        "\n",
        "# Initialize and fit an agglomerative clustering model using ward linkage in scikit-learn, with a user-defined\n",
        "# number of clusters\n",
        "clustersHealthy = AgglomerativeClustering(n_clusters=number, linkage='ward')\n",
        "clustersHealthy = clustersHealthy.fit(X)\n",
        "\n",
        "# Add cluster labels to input feature dataframe\n",
        "X['labels']=clustersHealthy.labels_\n",
        "print(X.head())\n",
        "\n",
        "# Perform agglomerative clustering using SciPy\n",
        "\n",
        "# Calculate the distances between all instances\n",
        "distance = pdist(X)\n",
        "\n",
        "# Convert the distance matrix to a square matrix\n",
        "distance = squareform(distance)\n",
        "\n",
        "# Define a clustering model with ward linkage\n",
        "clustersHealthyScipy = linkage(distance, method='ward')\n",
        "\n",
        "print('First five rows of the linkage matrix from SciPy:\\n', np.round(clustersHealthyScipy[:5, :], 0))\n"
      ]
    },
    {
      "cell_type": "code",
      "execution_count": null,
      "id": "78db51dd-7ad3-4f58-b0ff-ae71a6c306e8",
      "metadata": {
        "id": "78db51dd-7ad3-4f58-b0ff-ae71a6c306e8"
      },
      "outputs": [],
      "source": []
    },
    {
      "cell_type": "markdown",
      "id": "d92b04d3-05bd-470c-a199-327a6b55679c",
      "metadata": {
        "id": "d92b04d3-05bd-470c-a199-327a6b55679c"
      },
      "source": [
        "## 3. DBSCAN using scikit-learn\n",
        "- Increase the **number of points sampled to 500**.\n",
        "- Apply the DBSCAN model with **epsilon=1** and **min_samples=8** to identify the number of core-points and outliers (or noise).\n",
        "- EX: if the epsilon=1 and min_samples = 10 and number of points sampled to 100.\n",
        "  - the number of core-points = 85\n",
        "  - the number of outliers    = 11"
      ]
    },
    {
      "cell_type": "code",
      "execution_count": 23,
      "id": "fdeae7b7-d4e7-483a-81bc-1d4bd4d6716c",
      "metadata": {
        "colab": {
          "base_uri": "https://localhost:8080/",
          "height": 1000
        },
        "id": "fdeae7b7-d4e7-483a-81bc-1d4bd4d6716c",
        "outputId": "8a3bc7f1-9e90-48a7-f3b3-04f288e6ef1e"
      },
      "outputs": [
        {
          "output_type": "stream",
          "name": "stdout",
          "text": [
            "Labels: [ 0  0  0  0  0  0  0  0  0  0  0  0  0  0  0  0  0  0  0  0  0  0  0  0\n",
            "  0  0  0  0  0  0  0  0  0  0  0  0  0  0  0  0  0  0  0  0  0  0  0  0\n",
            "  0  0  0  0  0  0  0  0  0  0  0  0  0  0  0  0  0  0  0  0  0  0  0  0\n",
            "  0  0  0  0  0  0  0  0  0  0  0  0  0  0  0  0  0  0  0  0  0  0  0  0\n",
            "  0  0  0  0  0  0  0  0  0  0  0  0  0  0  0  0  0  0  0  0  0  0  0  0\n",
            "  0  0  0  0  0  0  0  0  0  0  0  0  0  0  0  0  0  0  0  0  0  0  0  0\n",
            "  0  0  0  0  0  0  0  0  0  0  0  0  0  0  0  0  0  0  0  0  0  0  0  0\n",
            "  0  0  0  0  0  0  0  0  0  0  0  0  0  0  0  0  0  0  0  0  0  0  0  0\n",
            "  0  0  0  0  0  0  0  0  0  0  0  0  0  0  0  0  0  0  0  0  0  0  0  0\n",
            "  0  0  0  0  0  0  0  0  0  0  0  0  0 -1  0  0  0  0  0  0  0  0  0  0\n",
            "  0  0  0  0  0  0  0  0  0  0  0  0  0  0  0  0  0  0  0  0  0  0  0  0\n",
            "  0  0  0  0 -1  0  0  0  0  0  0  0  0  0  0  0  0  0  0  0  0  0  0  0\n",
            "  0  0  0  0  0  0  0  0  0  0  0  0  0  0  0  0  0  0  0  0  0  0  0  0\n",
            "  0  0  0  0  0  0  0  0  0  0  0  0  0  0  0  0  0  0  0  0  0  0  0  0\n",
            "  0  0  0  0  0  0  0  0  0  0  0  0  0  0  0  0  0  0  0  0  0  0  0  0\n",
            "  0  0  0  0  0  0  0  0  0  0  0  0  0 -1  0  0  0  0  0  0  0  0  0  0\n",
            "  0  0  0  0  0  0  0  0  0  0  0  0  0  0  0  0  0  0  0  0  0  0  0  0\n",
            "  0  0  0  0  0  0  0  0  0  0  0  0  0  0  0  0  0  0  0  0  0  0  0  0\n",
            "  0  0  0  0  0  0  0  0  0  0  0  0  0  0  0  0  0  0  0  0  0  0  0  0\n",
            "  0  0  0  0  0  0  0  0  0  0  0  0  0  0 -1  0  0  0  0  0  0  0  0  0\n",
            "  0  0  0  0  0  0  0  0  0  0  0  0  0  0  0  0  0  0  0  0]\n",
            "Core points: [  0   1   2   3   4   5   6   7   8   9  10  11  12  13  14  15  16  17\n",
            "  18  19  20  21  22  23  24  25  26  27  28  29  30  31  32  33  34  35\n",
            "  36  37  38  39  40  41  42  43  44  45  46  47  48  49  50  51  52  53\n",
            "  54  55  56  57  58  59  60  61  62  63  64  65  66  67  68  69  70  71\n",
            "  72  73  74  75  76  77  78  79  80  81  82  83  84  85  86  87  88  89\n",
            "  90  91  92  93  94  95  96  97  98  99 100 101 102 103 104 105 106 107\n",
            " 108 109 110 111 112 113 114 115 116 117 118 119 120 121 122 123 124 125\n",
            " 126 127 128 129 130 131 132 134 135 136 137 138 139 140 141 142 143 144\n",
            " 145 146 147 148 149 150 151 152 153 154 155 156 157 158 159 160 161 162\n",
            " 163 164 165 166 167 168 169 170 171 172 173 174 175 176 177 178 179 180\n",
            " 181 182 183 184 185 186 187 188 189 190 191 192 193 194 195 196 197 198\n",
            " 199 200 201 202 203 204 205 206 207 208 209 211 212 213 214 215 216 217\n",
            " 218 219 220 221 222 223 224 225 226 227 228 230 232 233 234 235 236 237\n",
            " 238 239 240 241 242 243 244 245 246 247 248 249 250 251 252 253 254 255\n",
            " 256 257 258 259 260 261 262 263 264 265 266 267 269 270 271 272 273 274\n",
            " 275 276 277 278 279 280 281 282 283 284 285 286 287 288 289 290 291 292\n",
            " 293 294 295 296 297 298 299 300 301 302 303 304 305 306 307 308 309 310\n",
            " 311 312 313 314 315 316 317 318 319 320 321 322 323 324 325 326 327 328\n",
            " 329 330 331 332 333 334 335 336 337 338 339 340 341 342 343 345 346 347\n",
            " 348 349 350 351 352 353 354 355 356 357 358 359 360 361 362 363 364 365\n",
            " 366 367 368 369 370 371 372 375 376 377 378 379 380 381 382 383 384 385\n",
            " 386 387 388 389 390 391 392 393 394 395 396 397 398 399 400 401 402 403\n",
            " 405 406 407 408 409 410 411 412 413 414 415 416 417 418 419 420 421 422\n",
            " 423 424 425 426 427 428 429 430 431 432 433 434 435 436 437 438 439 440\n",
            " 441 442 443 444 445 446 447 448 449 450 451 452 453 454 455 456 457 458\n",
            " 459 460 461 462 463 464 465 466 467 468 469 471 472 473 474 475 476 477\n",
            " 478 479 480 481 482 483 484 485 486 487 488 489 490 491 492 493 494 495\n",
            " 496 497 498 499]\n",
            "Number of core points: 490\n"
          ]
        },
        {
          "output_type": "execute_result",
          "data": {
            "text/plain": [
              "<matplotlib.legend.Legend at 0x7db9986bb050>"
            ]
          },
          "metadata": {},
          "execution_count": 23
        },
        {
          "output_type": "display_data",
          "data": {
            "text/plain": [
              "<Figure size 640x480 with 1 Axes>"
            ],
            "image/png": "[encoded data removed]"
          },
          "metadata": {}
        }
      ],
      "source": [
        "import matplotlib.pyplot as plt\n",
        "import pandas as pd\n",
        "import seaborn as sns\n",
        "\n",
        "from sklearn.preprocessing import StandardScaler\n",
        "from sklearn.cluster import DBSCAN\n",
        "\n",
        "# Load the full grocery customer dataset and take a random sample of 500 instances\n",
        "data = pd.read_csv('customer_personality.csv').sample(500)\n",
        "\n",
        "# Use StandardScaler() to standardize input features\n",
        "X = data[['Fruits', 'Meats']]\n",
        "scaler = StandardScaler()\n",
        "X = scaler.fit_transform(X)\n",
        "X = pd.DataFrame(X)\n",
        "\n",
        "# Apply DBSCAN with epsilon=1 and min_samples = 8\n",
        "dbscan = DBSCAN(eps=1, min_samples=8)\n",
        "dbscan = dbscan.fit(X)\n",
        "\n",
        "# Print the cluster labels and core point indices\n",
        "print('Labels:', dbscan.labels_ )\n",
        "print('Core points:', dbscan.core_sample_indices_ )\n",
        "print('Number of core points:', len(dbscan.core_sample_indices_) )\n",
        "\n",
        "# Add the cluster labels to the dataset as strings\n",
        "data['clusters'] = dbscan.labels_.astype(str)\n",
        "\n",
        "# Sort by cluster label (for plotting purposes)\n",
        "data.sort_values(by='clusters', inplace=True)\n",
        "\n",
        "# Plot clusters on the original data\n",
        "p = sns.scatterplot(data=data, x='Fruits',\n",
        "                    y='Meats', hue='clusters',\n",
        "                    style='clusters')\n",
        "p.set_xlabel('Fruits', fontsize=16)\n",
        "p.set_ylabel('Meats', fontsize=16)\n",
        "p.legend(title='DBSCAN')"
      ]
    },
    {
      "cell_type": "code",
      "execution_count": null,
      "id": "3ea545b6-c934-42ca-9f5a-be7bf69d22d9",
      "metadata": {
        "id": "3ea545b6-c934-42ca-9f5a-be7bf69d22d9"
      },
      "outputs": [],
      "source": []
    }
  ],
  "metadata": {
    "kernelspec": {
      "display_name": "Python 3 (ipykernel)",
      "language": "python",
      "name": "python3"
    },
    "language_info": {
      "codemirror_mode": {
        "name": "ipython",
        "version": 3
      },
      "file_extension": ".py",
      "mimetype": "text/x-python",
      "name": "python",
      "nbconvert_exporter": "python",
      "pygments_lexer": "ipython3",
      "version": "3.12.4"
    },
    "colab": {
      "provenance": []
    }
  },
  "nbformat": 4,
  "nbformat_minor": 5
}