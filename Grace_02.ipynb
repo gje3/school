{
  "nbformat": 4,
  "nbformat_minor": 0,
  "metadata": {
    "colab": {
      "provenance": []
    },
    "kernelspec": {
      "name": "python3",
      "display_name": "Python 3"
    },
    "language_info": {
      "name": "python"
    }
  },
  "cells": [
    {
      "cell_type": "markdown",
      "source": [],
      "metadata": {
        "id": "nW-xp1L87eHB"
      }
    },
    {
      "cell_type": "code",
      "execution_count": 1,
      "metadata": {
        "colab": {
          "base_uri": "https://localhost:8080/"
        },
        "id": "PcdjXir96sXQ",
        "outputId": "91cf3eef-5031-466c-9666-02ae95a69eab"
      },
      "outputs": [
        {
          "output_type": "stream",
          "name": "stdout",
          "text": [
            "Reshaped Array:\n",
            "[[ 0  1  2  3]\n",
            " [ 4  5  6  7]\n",
            " [ 8  9 10 11]]\n",
            "Summation of each column:\n",
            "[12 15 18 21]\n",
            "Summation of each row:\n",
            "[ 6 22 38]\n",
            "Summation of matrix:\n",
            "66\n"
          ]
        }
      ],
      "source": [
        "import numpy as np\n",
        "\n",
        "#Create a 1D array with 12 elements\n",
        "arr = np.arange(12)\n",
        "\n",
        "#Reshape the array into 3 rows and 4 columns\n",
        "reshaped_arr = arr.reshape(3, 4)\n",
        "\n",
        "print(\"Reshaped Array:\")\n",
        "print(reshaped_arr)\n",
        "\n",
        "print(\"Summation of each column:\")\n",
        "print(np.sum(reshaped_arr, axis=0))\n",
        "\n",
        "print(\"Summation of each row:\")\n",
        "print(np.sum(reshaped_arr, axis=1))\n",
        "\n",
        "print(\"Summation of matrix:\")\n",
        "print(np.sum(reshaped_arr))"
      ]
    },
    {
      "cell_type": "code",
      "source": [
        "arr1 = np.array([1, 2, 3, 4])\n",
        "arr2 = np.array([5, 6, 7, 8])\n",
        "arr1 * arr2"
      ],
      "metadata": {
        "colab": {
          "base_uri": "https://localhost:8080/"
        },
        "id": "FaaXAzsZ7mNK",
        "outputId": "bd535958-8fe2-4ced-ba9b-8771713f2b9f"
      },
      "execution_count": 3,
      "outputs": [
        {
          "output_type": "execute_result",
          "data": {
            "text/plain": [
              "array([ 5, 12, 21, 32])"
            ]
          },
          "metadata": {},
          "execution_count": 3
        }
      ]
    },
    {
      "cell_type": "code",
      "source": [
        "# given a 2d numpy array, find the index of the maximum element in each column\n",
        "# hint: use argmax function\n",
        "arr = ([[1, 4, 7], [2, 5, 8], [3, 6, 9]])\n",
        "indices = np.argmax(arr, axis=1)\n",
        "\n",
        "print (\"indices of maximum elements in each column:\")\n",
        "print(indices)"
      ],
      "metadata": {
        "colab": {
          "base_uri": "https://localhost:8080/"
        },
        "id": "kVa9qboL8Q5G",
        "outputId": "32a09b1c-2710-414c-cb19-be0aa2ffc06b"
      },
      "execution_count": 8,
      "outputs": [
        {
          "output_type": "stream",
          "name": "stdout",
          "text": [
            "indices of maximum elements in each column:\n",
            "[2 2 2]\n"
          ]
        }
      ]
    },
    {
      "cell_type": "code",
      "source": [
        "# given a 2d numpy array, compute the mean of each row\n",
        "\n",
        "([1, 2, 3], [4, 5, 6], [7, 8, 9])\n",
        "arr = np.array([[1, 2, 3], [4, 5, 6], [7, 8, 9]])\n",
        "\n",
        "# compute the mean of each row\n",
        "means = np.mean(arr, axis=1)\n",
        "\n",
        "print (\"mean of each row:\")\n",
        "print(means)"
      ],
      "metadata": {
        "colab": {
          "base_uri": "https://localhost:8080/"
        },
        "id": "HRei5ZTv-Mpd",
        "outputId": "560413c6-92b1-49df-8978-8db9d9df4e5c"
      },
      "execution_count": 9,
      "outputs": [
        {
          "output_type": "stream",
          "name": "stdout",
          "text": [
            "mean of each row:\n",
            "[2. 5. 8.]\n"
          ]
        }
      ]
    },
    {
      "cell_type": "code",
      "source": [
        "# filter elements from a numpy array that are greater than a given threshold using boolean indexing\n",
        "arr = np.array([1, 5, 8, 12, 20, 3])\n",
        "threshold = 10\n",
        "filtered_arr = arr[arr > threshold]\n",
        "\n",
        "print (\"filtered array:\")\n",
        "print(filtered_arr)"
      ],
      "metadata": {
        "colab": {
          "base_uri": "https://localhost:8080/"
        },
        "id": "nNAaf-Gy_STR",
        "outputId": "0721286b-9e27-4dd9-83bd-97172a29ad19"
      },
      "execution_count": 11,
      "outputs": [
        {
          "output_type": "stream",
          "name": "stdout",
          "text": [
            "filtered array:\n",
            "[12 20]\n"
          ]
        }
      ]
    },
    {
      "cell_type": "code",
      "source": [
        "# find the dot product of two numpy vectors\n",
        "vec1 = np.array([1, 2, 3])\n",
        "vec2 = np.array([4, 5, 6])\n",
        "\n",
        "dot_product = np.dot(vec1, vec2)\n",
        "\n",
        "print (\"dot product:\")\n",
        "print(dot_product)"
      ],
      "metadata": {
        "id": "2h_NFy-B_f0z"
      },
      "execution_count": null,
      "outputs": []
    },
    {
      "cell_type": "code",
      "source": [
        "# calculate the cosine similarity between two numpy vectors\n",
        "def cosine_similarity(vec1, vec2)\n",
        "dot_product = np.doc(vec1, vec2)\n",
        "norm_vec1 = np.linalg.norm(vec1)\n",
        "norm_vec2 = np.linalg.norm(vec2)\n",
        "return dot_product / (norm_vec1 * norm_vec2)\n",
        "\n",
        "similarity = cosine_similarity(vec1, vec2)\n",
        "\n",
        "print (\"cosine similarity:\")\n",
        "print(similarity)"
      ],
      "metadata": {
        "id": "Ei_4fRxE_mT_"
      },
      "execution_count": null,
      "outputs": []
    },
    {
      "cell_type": "code",
      "source": [
        "# calculate the euclidean distance between two points in a 2d space using numpy\n",
        "\n",
        "vec1 = np.array([1, 2])\n",
        "vec2 = np.array([4, 5])\n",
        "\n",
        "def euclidean_distance(point1, point2):\n",
        "  return np.linalg.norm(point1 - point2)\n",
        "\n",
        "distance = euclidean_distance(vec1, vec2)\n",
        "\n",
        "print (\"euclidean distance:\")\n",
        "print(distance)"
      ],
      "metadata": {
        "colab": {
          "base_uri": "https://localhost:8080/"
        },
        "id": "OQAJqm5d_t57",
        "outputId": "23515ec6-d436-4411-c7ab-bcfa0dd19f87"
      },
      "execution_count": 18,
      "outputs": [
        {
          "output_type": "stream",
          "name": "stdout",
          "text": [
            "euclidean distance:\n",
            "4.242640687119285\n"
          ]
        }
      ]
    }
  ]
}